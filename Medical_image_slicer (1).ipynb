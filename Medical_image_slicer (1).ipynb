{
  "nbformat": 4,
  "nbformat_minor": 0,
  "metadata": {
    "colab": {
      "provenance": [],
      "machine_shape": "hm"
    },
    "kernelspec": {
      "name": "python3",
      "display_name": "Python 3"
    },
    "language_info": {
      "name": "python"
    },
    "gpuClass": "standard"
  },
  "cells": [
    {
      "cell_type": "code",
      "execution_count": null,
      "metadata": {
        "id": "fMJYh0YB8RNw"
      },
      "outputs": [],
      "source": [
        "import os\n",
        "import numpy as np\n",
        "from PIL import Image\n",
        "import nibabel as nib"
      ]
    },
    {
      "cell_type": "code",
      "source": [
        "from google.colab import drive\n",
        "drive.mount('/content/drive')"
      ],
      "metadata": {
        "colab": {
          "base_uri": "https://localhost:8080/"
        },
        "id": "2iOHirsa8hin",
        "outputId": "8e19a7e2-4758-4007-df61-6d1ea1b3b26f"
      },
      "execution_count": null,
      "outputs": [
        {
          "output_type": "stream",
          "name": "stdout",
          "text": [
            "Mounted at /content/drive\n"
          ]
        }
      ]
    },
    {
      "cell_type": "code",
      "source": [
        "dataset_path = '/content/drive/MyDrive/ADNI_nii_after_pre'"
      ],
      "metadata": {
        "id": "ITvV5jxr8maR"
      },
      "execution_count": null,
      "outputs": []
    },
    {
      "cell_type": "code",
      "source": [
        "class ImageSlicer:\n",
        "    def __init__(self, dataset_path):\n",
        "        # Set the path to the dataset\n",
        "        self.dataset_path = dataset_path\n",
        "        # Define the labels for the dataset\n",
        "        self.labels = ['AD', 'CN', 'LMCI', 'MCI']\n",
        "        # Set the path to the output folder for the sliced images\n",
        "        self.output_folder = '/content/drive/MyDrive/output_images_preprocessed'\n",
        "        # Set the range of slices to extract from each image\n",
        "        self.slices_range = range(10)\n",
        "\n",
        "    def slice_images(self):\n",
        "        # Iterate over each label in the dataset\n",
        "        for label in self.labels:\n",
        "            # Set the input folder path for the label\n",
        "            input_folder = os.path.join(self.dataset_path, label)\n",
        "            # Set the output folder path for the label\n",
        "            output_folder = os.path.join(self.dataset_path, self.output_folder, label)\n",
        "            # Create the output folder if it doesn't exist\n",
        "            os.makedirs(output_folder, exist_ok=True)\n",
        "\n",
        "            # Iterate over each file in the input folder\n",
        "            for filename in os.listdir(input_folder):\n",
        "                # Check if the file has the \".nii\" extension\n",
        "                if filename.endswith('.nii'):\n",
        "                    # Set the input file path\n",
        "                    filepath = os.path.join(input_folder, filename)\n",
        "                    # Load the NIfTI image using the nibabel library\n",
        "                    nii_image = nib.load(filepath)\n",
        "                    # Convert the image to a NumPy array and add an additional dimension along axis=-1\n",
        "                    np_image = np.array(nii_image.get_fdata())[..., np.newaxis]\n",
        "                    # Remove the additional dimension along axis=-1\n",
        "                    np_image = np.squeeze(np_image, axis=-1)\n",
        "                    # Cast the NumPy array to the float32 data type\n",
        "                    np_image = np_image.astype(np.float32)\n",
        "                    # Normalize the image to the range [0, 255]\n",
        "                    min_val = np.min(np_image)\n",
        "                    max_val = np.max(np_image)\n",
        "                    np_image = ((np_image - min_val) * (255 / (max_val - min_val))).astype(np.uint8)\n",
        "                    # Get the number of slices in the image 3D\n",
        "                    num_slices = np_image.shape[2]\n",
        "                    # Get the middle slice index\n",
        "                    middle_slice = num_slices // 2\n",
        "                    # Get the starting and ending slice indices\n",
        "                    start_slice = max(0, middle_slice - 5)\n",
        "                    end_slice = min(num_slices - 1, middle_slice + 4)\n",
        "                    # Create a folder for the image slices\n",
        "                    folder_name = os.path.splitext(filename)[0] + '_folder_0'\n",
        "                    folder_path = os.path.join(output_folder, folder_name)\n",
        "                    os.makedirs(folder_path, exist_ok=True)\n",
        "                    # Extract and save each slice within the specified range\n",
        "                    for i in range(start_slice, end_slice+1):\n",
        "                        # Extract the slice as a PIL Image object\n",
        "                        slice_image = Image.fromarray(np_image[:, :, i])\n",
        "                        # Convert the slice to the RGB color mode\n",
        "                        slice_image = slice_image.convert('RGB')\n",
        "                        # Set the filename for the slice image\n",
        "                        slice_filename = f'slice_{i}.jpg'\n",
        "                        # Set the filepath for the slice image\n",
        "                        slice_filepath = os.path.join(folder_path, slice_filename)\n",
        "                        # Save the slice image as a JPEG file\n",
        "                        slice_image.save(slice_filepath)\n"
      ],
      "metadata": {
        "id": "pMrS6kQV8qXt"
      },
      "execution_count": null,
      "outputs": []
    },
    {
      "cell_type": "code",
      "source": [
        "# create an instance of the ImageSlicer class with the path to the dataset\n",
        "slicer = ImageSlicer(dataset_path)\n",
        "\n",
        "# call the slice_images method to slice and store the images\n",
        "slicer.slice_images()\n"
      ],
      "metadata": {
        "id": "uLVaDtqx8u2l"
      },
      "execution_count": null,
      "outputs": []
    }
  ]
}