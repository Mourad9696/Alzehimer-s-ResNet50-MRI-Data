{
  "nbformat": 4,
  "nbformat_minor": 0,
  "metadata": {
    "colab": {
      "provenance": [],
      "machine_shape": "hm"
    },
    "kernelspec": {
      "name": "python3",
      "display_name": "Python 3"
    },
    "language_info": {
      "name": "python"
    },
    "gpuClass": "standard"
  },
  "cells": [
    {
      "cell_type": "code",
      "execution_count": null,
      "metadata": {
        "id": "fYGbrrZt7JIZ"
      },
      "outputs": [],
      "source": [
        "import nibabel as nib\n",
        "import os\n",
        "import matplotlib.pyplot as plt\n",
        "import numpy as np\n",
        "from PIL import Image\n",
        "from shutil import copyfile\n",
        "from sklearn.model_selection import train_test_split\n",
        "from tensorflow.keras.applications.resnet50 import ResNet50\n",
        "from tensorflow.keras.layers import Dense, GlobalAveragePooling2D\n",
        "from tensorflow.keras.models import Model\n",
        "from tensorflow.keras.optimizers import Adam\n",
        "from tensorflow.keras.preprocessing.image import ImageDataGenerator\n",
        "import random\n",
        "from tensorflow import keras\n",
        "import pandas as pd\n",
        "from google.colab import drive\n",
        "import shutil\n",
        "import tensorflow as tf"
      ]
    },
    {
      "cell_type": "code",
      "source": [
        "drive.mount('/content/drive')"
      ],
      "metadata": {
        "colab": {
          "base_uri": "https://localhost:8080/"
        },
        "id": "eCozDtA67dIf",
        "outputId": "126fb3d1-c1df-4345-efb6-87f1a700de85"
      },
      "execution_count": null,
      "outputs": [
        {
          "output_type": "stream",
          "name": "stdout",
          "text": [
            "Mounted at /content/drive\n"
          ]
        }
      ]
    },
    {
      "cell_type": "code",
      "source": [
        "dataset_path = '/content/drive/MyDrive/output_images'\n",
        "folders = ['AD', 'CN', 'LMCI', 'MCI']"
      ],
      "metadata": {
        "id": "zy7KO74o7h_z"
      },
      "execution_count": null,
      "outputs": []
    },
    {
      "cell_type": "code",
      "source": [
        "class NiiFileAnalyzer:\n",
        "    def __init__(self, dataset_path, folders):\n",
        "        \"\"\"\n",
        "        Initializes the SliceCounter object with the path to the dataset directory and a list of folder names.\n",
        "        \"\"\"\n",
        "        self.dataset_path = dataset_path\n",
        "        self.folders = folders\n",
        "\n",
        "    def analyze(self):\n",
        "        \"\"\"\n",
        "        Loops through each folder and counts the number of slices in each .nii file.\n",
        "        \"\"\"\n",
        "        # loop through each folder in the list of folders\n",
        "        for folder in self.folders:\n",
        "            # define the path to the current folder\n",
        "            folder_path = os.path.join(self.dataset_path, folder)\n",
        "            # loop through each file in the current folder\n",
        "            for file in os.listdir(folder_path):\n",
        "                if file.endswith('.nii'):\n",
        "                    # define the path to the current .nii file\n",
        "                    file_path = os.path.join(folder_path, file)\n",
        "                    # load the .nii file using nibabel\n",
        "                    img = nib.load(file_path)\n",
        "\n",
        "                    # get the number of slices in the .nii file\n",
        "                    num_slices = img.shape[2]\n",
        "\n",
        "                    # print the start of the object and the number of slices\n",
        "                    print(f'{file}: {num_slices} slices')\n",
        "                    print(f'\\n{file}\\n=> {num_slices} Slices')\n",
        "\n",
        "                    # loop through each slice in the .nii file\n",
        "                    for i in range(num_slices):\n",
        "                        # extract the slice from the .nii file\n",
        "                        slice_img = img.get_fdata()[:, :, i]\n",
        "                        print(f'Slice {i+1} size: {slice_img.shape[0]} x {slice_img.shape[1]}')\n",
        "                        # display the slice using matplotlib or any other library\n",
        "                        plt.imshow(slice_img, cmap='gray')\n",
        "                        plt.title(f'Slice {i+1} of {file}')\n",
        "                        plt.show()\n",
        "\n",
        "\n",
        "\n",
        "            # print a line separator after processing each folder\n",
        "            print('#' * 100)"
      ],
      "metadata": {
        "id": "RRvsUVxK7145"
      },
      "execution_count": null,
      "outputs": []
    },
    {
      "cell_type": "code",
      "source": [
        "analyzer = NiiFileAnalyzer(dataset_path, folders)\n",
        "analyzer.analyze()"
      ],
      "metadata": {
        "id": "8SNlQhoD73zH"
      },
      "execution_count": null,
      "outputs": []
    }
  ]
}