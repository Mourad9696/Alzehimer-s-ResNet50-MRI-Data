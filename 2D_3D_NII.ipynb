{
  "nbformat": 4,
  "nbformat_minor": 0,
  "metadata": {
    "colab": {
      "provenance": []
    },
    "kernelspec": {
      "name": "python3",
      "display_name": "Python 3"
    },
    "language_info": {
      "name": "python"
    }
  },
  "cells": [
    {
      "cell_type": "code",
      "execution_count": null,
      "metadata": {
        "id": "9buPS50d4t8W"
      },
      "outputs": [],
      "source": [
        "# Define the folder path containing the JPG images\n",
        "image_folder = '/content/drive/MyDrive/output_images_preprocessed/test/CN/ADNI_002_S_0295_MR_Field_Mapping__br_raw_20110602125348004_49_S110473_I238622_brain_folder_0/'\n",
        "\n",
        "# Get the list of image files in the folder\n",
        "image_files = sorted([f for f in os.listdir(image_folder) if f.endswith('.jpg')])\n",
        "\n",
        "# Load the first image to get the image shape\n",
        "first_image_path = os.path.join(image_folder, image_files[0])\n",
        "first_image = cv2.imread(first_image_path)\n",
        "image_shape = (first_image.shape[0], first_image.shape[1], len(image_files))\n",
        "\n",
        "# Create an empty volume to store the assembled images\n",
        "volume = np.zeros(image_shape, dtype=np.uint8)\n",
        "\n",
        "# Iterate over the image files and load them into the volume\n",
        "for i, image_file in enumerate(image_files):\n",
        "    image_path = os.path.join(image_folder, image_file)\n",
        "    image = cv2.imread(image_path)\n",
        "    gray_image = cv2.cvtColor(image, cv2.COLOR_BGR2GRAY)\n",
        "    volume[:, :, i] = gray_image\n",
        "\n",
        "# Create a NIfTI object from the assembled volume\n",
        "nifti_image = nib.Nifti1Image(volume, affine=np.eye(4))"
      ]
    },
    {
      "cell_type": "code",
      "source": [
        "# Save the reassembled NIfTI image to a file\n",
        "output_nii_file = '/content/drive/MyDrive/CN_Case.nii'\n",
        "nib.save(nifti_image, output_nii_file)\n",
        "\n",
        "# Print a message upon successful completion\n",
        "print(\"NIfTI image saved successfully.\")"
      ],
      "metadata": {
        "id": "l-gf3QMm4zZQ"
      },
      "execution_count": null,
      "outputs": []
    }
  ]
}