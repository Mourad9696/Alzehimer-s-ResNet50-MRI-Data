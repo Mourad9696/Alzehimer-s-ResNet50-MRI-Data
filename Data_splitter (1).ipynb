{
  "nbformat": 4,
  "nbformat_minor": 0,
  "metadata": {
    "colab": {
      "provenance": [],
      "machine_shape": "hm"
    },
    "kernelspec": {
      "name": "python3",
      "display_name": "Python 3"
    },
    "language_info": {
      "name": "python"
    },
    "accelerator": "TPU",
    "gpuClass": "standard"
  },
  "cells": [
    {
      "cell_type": "code",
      "source": [
        "import shutil\n",
        "import random\n",
        "import os\n",
        "from google.colab import drive\n",
        "from sklearn.model_selection import train_test_split"
      ],
      "metadata": {
        "id": "F27aXGxFQ1L2"
      },
      "execution_count": null,
      "outputs": []
    },
    {
      "cell_type": "code",
      "source": [
        "drive.mount('/content/drive')"
      ],
      "metadata": {
        "colab": {
          "base_uri": "https://localhost:8080/"
        },
        "id": "NVwZ0lG8REPU",
        "outputId": "ad2feef4-ea31-4800-d839-55a2f254e086"
      },
      "execution_count": null,
      "outputs": [
        {
          "output_type": "stream",
          "name": "stdout",
          "text": [
            "Mounted at /content/drive\n"
          ]
        }
      ]
    },
    {
      "cell_type": "code",
      "execution_count": null,
      "metadata": {
        "id": "gnVAmEcPQqbq"
      },
      "outputs": [],
      "source": [
        "class DataSplitter:\n",
        "    def __init__(self, data_path, label_names, test_size=0.3):\n",
        "        self.data_path = data_path\n",
        "        self.label_names = label_names\n",
        "        self.test_size = test_size\n",
        "        self.train_data = {}\n",
        "        self.test_data = {}\n",
        "        self.train_filenames = []\n",
        "        self.test_filenames = []\n",
        "        self.train_images = []\n",
        "        self.test_images = []\n",
        "\n",
        "    def load_data(self):\n",
        "        for label in self.label_names:\n",
        "            label_path = os.path.join(self.data_path, label)\n",
        "            folder_names = os.listdir(label_path)\n",
        "            self.train_data[label], self.test_data[label] = train_test_split(folder_names, test_size=self.test_size)\n",
        "\n",
        "            # Create train and test directories for each label\n",
        "            train_dir = os.path.join(self.data_path, \"train\", label)\n",
        "            test_dir = os.path.join(self.data_path, \"test\", label)\n",
        "            os.makedirs(train_dir, exist_ok=True)\n",
        "            os.makedirs(test_dir, exist_ok=True)\n",
        "\n",
        "            # Copy training folders to train directory\n",
        "            for folder_name in self.train_data[label]:\n",
        "                src = os.path.join(label_path, folder_name)\n",
        "                dst = os.path.join(train_dir, folder_name)\n",
        "                shutil.copytree(src, dst)\n",
        "\n",
        "            # Copy testing folders to test directory\n",
        "            for folder_name in self.test_data[label]:\n",
        "                src = os.path.join(label_path, folder_name)\n",
        "                dst = os.path.join(test_dir, folder_name)\n",
        "                shutil.copytree(src, dst)\n",
        "\n",
        "        print(\"Number of training labels:\")\n",
        "        for label in self.label_names:\n",
        "            print(label, len(self.train_data[label]))\n",
        "        print(\"Number of testing labels:\")\n",
        "        for label in self.label_names:\n",
        "            print(label, len(self.test_data[label]))\n",
        "\n",
        "    def save_data(self):\n",
        "        with open(\"train_filenames.txt\", \"w\") as f:\n",
        "            for label in self.label_names:\n",
        "                for filename in self.train_data[label]:\n",
        "                    f.write(os.path.join(\"train\", label, filename) + \"\\n\")\n",
        "        with open(\"test_filenames.txt\", \"w\") as f:\n",
        "            for label in self.label_names:\n",
        "                for filename in self.test_data[label]:\n",
        "                    f.write(os.path.join(\"test\", label, filename) + \"\\n\")\n",
        "\n",
        "    def get_train_data(self):\n",
        "        if self.train_images:\n",
        "            return self.train_images\n",
        "\n",
        "        for label in self.label_names:\n",
        "            label_path = os.path.join(self.data_path, \"train\", label)\n",
        "            for folder_name in os.listdir(label_path):\n",
        "                folder_path = os.path.join(label_path, folder_name)\n",
        "                for filename in os.listdir(folder_path):\n",
        "                    if filename.endswith(\".jpg\"):\n",
        "                        filepath = os.path.join(folder_path, filename)\n",
        "                        self.train_images.append((filepath, label))\n",
        "\n",
        "        random.shuffle(self.train_images)\n",
        "        self.train_filenames = [x[0] for x in self.train_images]\n",
        "        return self.train_images\n",
        "\n",
        "    def get_test_data(self):\n",
        "        if self.test_images:\n",
        "            return self.test_images\n",
        "\n",
        "        for label in self.label_names:\n",
        "            label_path = os.path.join(self.data_path, \"test\", label)\n",
        "            for folder_name in os.listdir(label_path):\n",
        "                folder_path = os.path.join(label_path, folder_name)\n",
        "                for filename in os.listdir(folder_path):\n",
        "                    if filename.endswith(\".nii\"):\n",
        "                        filepath = os.path.join(folder_path, filename)\n",
        "                        self.test_images.append((filepath, label))\n",
        "\n",
        "        random.shuffle(self.test_images)\n",
        "        self.test_filenames = [x[0] for x in self.test_images]\n",
        "        return self.test_images"
      ]
    },
    {
      "cell_type": "code",
      "source": [
        "# Initialize DataSplitter\n",
        "dataset_path = '/content/drive/MyDrive/output_images_preprocessed/'\n",
        "label_names = ['AD', 'CN', 'LMCI', 'MCI']"
      ],
      "metadata": {
        "id": "NlBIIF7-RP09"
      },
      "execution_count": null,
      "outputs": []
    },
    {
      "cell_type": "code",
      "source": [
        "# Initialize DataSplitter\n",
        "data_splitter = DataSplitter(dataset_path, label_names)\n",
        "\n",
        "# Load and save data\n",
        "data_splitter.load_data()\n",
        "data_splitter.save_data()\n",
        "\n",
        "# Get train and test data\n",
        "train_data = data_splitter.get_train_data()\n",
        "test_data = data_splitter.get_test_data()\n",
        "\n",
        "# Print number of samples\n",
        "print(\"Number of training samples:\", len(train_data))\n",
        "print(\"Number of testing samples:\", len(test_data))"
      ],
      "metadata": {
        "id": "3TmBF-AKQtM4",
        "colab": {
          "base_uri": "https://localhost:8080/"
        },
        "outputId": "25ed6376-457a-4b98-e130-240e021606c7"
      },
      "execution_count": null,
      "outputs": [
        {
          "output_type": "stream",
          "name": "stdout",
          "text": [
            "Number of training labels:\n",
            "AD 69\n",
            "CN 70\n",
            "LMCI 68\n",
            "MCI 70\n",
            "Number of testing labels:\n",
            "AD 30\n",
            "CN 30\n",
            "LMCI 30\n",
            "MCI 30\n",
            "Number of training samples: 2770\n",
            "Number of testing samples: 0\n"
          ]
        }
      ]
    }
  ]
}